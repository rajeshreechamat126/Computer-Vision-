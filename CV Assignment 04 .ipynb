{
 "cells": [
  {
   "cell_type": "markdown",
   "id": "9b0cf3d6",
   "metadata": {},
   "source": [
    "# Assignment 04 - Solutions"
   ]
  },
  {
   "cell_type": "markdown",
   "id": "f7b2272f",
   "metadata": {},
   "source": [
    "1. What is the concept of cyclical momentum?\n",
    "\n",
    "Ans: Cyclical momentum is a concept in computer vision that refers to the idea of using momentum from a previously successful model to help guide the development of a new model. This can help to ensure that the new model is built on the successes of the past and also makes it easier to quickly iterate on and improve existing models. Cyclical momentum can help to speed up the development process and provide more accurate results."
   ]
  },
  {
   "cell_type": "markdown",
   "id": "24e44996",
   "metadata": {},
   "source": [
    "2. What callback keeps track of hyperparameter values (along with other data) during training?\n",
    "\n",
    "Ans: The ModelCheckpoint callback is used to keep track of hyperparameter values (along with other data) during training. This callback is used to save the model's weights and other data at the end of each epoch, allowing the user to track the model's performance over time."
   ]
  },
  {
   "cell_type": "markdown",
   "id": "3f4552f3",
   "metadata": {},
   "source": [
    "3. In the color dim plot, what does one column of pixels represent?\n",
    "\n",
    "Ans: One column of pixels in a color dim plot represents the relative values of the three color channels (red, green, and blue) for each pixel in the original image.\n"
   ]
  },
  {
   "cell_type": "markdown",
   "id": "73b7d4d7",
   "metadata": {},
   "source": [
    "4. In color dim, what does \"poor teaching\" look like? What is the reason for this?\n",
    "\n",
    "Ans: In color dim, poor teaching can look like providing a large amount of data with too little labels or annotation. This can lead to overfitting where the model only learns the data it is provided, and is not able to generalize to new data. This is a common problem in computer vision because of the large, complex datasets that are used to train these models.\n",
    "\n"
   ]
  },
  {
   "cell_type": "markdown",
   "id": "22560658",
   "metadata": {},
   "source": [
    "5. Does a batch normalization layer have any trainable parameters?\n",
    "\n",
    "Ans: Yes, a batch normalization layer has trainable parameters. These parameters are the mean and variance of the input layer, which are used to calculate the batch normalization parameters. Additionally, the gamma and beta parameters of the batch normalization layer are also trainable."
   ]
  },
  {
   "cell_type": "markdown",
   "id": "97a2d8ee",
   "metadata": {},
   "source": [
    "6. In batch normalization during preparation, what statistics are used to normalize? What about during the validation process?\n",
    "\n",
    "Ans: During preparation, batch normalization uses the mean and standard deviation of the batch data to normalize. During the validation process, it uses the mean and standard deviation of the entire dataset to normalize.\n",
    "\n"
   ]
  },
  {
   "cell_type": "markdown",
   "id": "24177c20",
   "metadata": {},
   "source": [
    "7. Why do batch normalization layers help models generalize better?\n",
    "\n",
    "Ans: Batch normalization layers help models generalize better by normalizing the activations of each layer to have a mean of 0 and a standard deviation of 1. This helps to reduce internal covariate shift, which is when the input to each layer changes as the weights of the model are updated. By normalizing the inputs to each layer, the internal covariate shift is reduced and the model is less sensitive to changes in the weights, leading to better generalization."
   ]
  },
  {
   "cell_type": "markdown",
   "id": "a0203332",
   "metadata": {},
   "source": [
    "8. Explain between MAX POOLING and AVERAGE POOLING is number eight.\n",
    "\n",
    "Ans: Max Pooling is a type of pooling operation that takes the maximum value from a certain region of the input image. This operation is useful for finding the most salient features of an image and discarding the less important ones.\n",
    "\n",
    "Average Pooling is a type of pooling operation that takes the average value from a certain region of the input image. This operation is useful for reducing the spatial size of an image while preserving the important features.\n",
    "\n"
   ]
  },
  {
   "cell_type": "markdown",
   "id": "64790d15",
   "metadata": {},
   "source": [
    "9. What is the purpose of the POOLING LAYER?\n",
    "\n",
    "Ans: The pooling layer of a convolutional neural network is used to reduce the spatial size of the representation. It is also used to reduce the number of parameters and computation in the network, which makes it efficient. The most common pooling operation is max pooling, which takes the highest value from each region of the layer to the next layer.\n",
    "\n"
   ]
  },
  {
   "cell_type": "markdown",
   "id": "6f4947bf",
   "metadata": {},
   "source": [
    "10. Why do we end up with Completely CONNECTED LAYERS?\n",
    "\n",
    "Ans: We end up with completely connected layers because they are the most efficient way to pass information from one layer to the next. Each neuron in one layer is connected to every neuron in the next layer, which allows for the efficient flow of information across the network. This means that each neuron in a layer can pass information to every neuron in the next layer without any missing connections.\n",
    "\n"
   ]
  },
  {
   "cell_type": "markdown",
   "id": "e5344b89",
   "metadata": {},
   "source": [
    "11. What do you mean by PARAMETERS?\n",
    "\n",
    "Ans: Parameters are values that are used to configure the behavior of a machine learning model. They are typically adjustable values that can be tweaked to improve the accuracy and performance of a model. Parameters are used to control the complexity of a model, the learning rate, and the regularization strength of the model. They are an important component of any machine learning model and can be used to fine-tune a model to its optimal performance."
   ]
  },
  {
   "cell_type": "markdown",
   "id": "554eaff4",
   "metadata": {},
   "source": [
    "12. What formulas are used to measure these PARAMETERS?\n",
    "\n",
    "Ans: The formulas used to measure parameters depend on the type of machine learning model being used. For example, in linear models, the parameters are typically measured using the least-squares algorithm. In neural networks, the parameters are typically measured using the backpropagation algorithm. In decision trees, the parameters are measured using the Gini Index or information gain.\n"
   ]
  }
 ],
 "metadata": {
  "kernelspec": {
   "display_name": "Python 3 (ipykernel)",
   "language": "python",
   "name": "python3"
  },
  "language_info": {
   "codemirror_mode": {
    "name": "ipython",
    "version": 3
   },
   "file_extension": ".py",
   "mimetype": "text/x-python",
   "name": "python",
   "nbconvert_exporter": "python",
   "pygments_lexer": "ipython3",
   "version": "3.9.13"
  }
 },
 "nbformat": 4,
 "nbformat_minor": 5
}
